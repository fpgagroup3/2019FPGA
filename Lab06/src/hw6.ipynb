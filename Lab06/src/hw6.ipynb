{
 "cells": [
  {
   "cell_type": "code",
   "execution_count": 42,
   "metadata": {},
   "outputs": [
    {
     "name": "stderr",
     "output_type": "stream",
     "text": [
      "/usr/local/lib/python3.6/dist-packages/pynq/overlay.py:299: UserWarning: Users will not get PARAMETERS / REGISTERS information through TCL files. HWH file is recommended.\n",
      "  warnings.warn(message, UserWarning)\n"
     ]
    }
   ],
   "source": [
    "from pynq import Overlay\n",
    "Design = Overlay(\"./hw.bit\")"
   ]
  },
  {
   "cell_type": "code",
   "execution_count": 43,
   "metadata": {},
   "outputs": [
    {
     "data": {
      "text/plain": [
       "{'myip_0': {'addr_range': 65536,\n",
       "  'driver': pynq.overlay.DefaultIP,\n",
       "  'fullpath': 'myip_0',\n",
       "  'gpio': {},\n",
       "  'interrupts': {},\n",
       "  'mem_id': 'SEG_myip_0_S00_AXI_reg',\n",
       "  'phys_addr': 1136656384,\n",
       "  'state': None,\n",
       "  'type': 'xilinx.com:user:myip:1.0'}}"
      ]
     },
     "execution_count": 43,
     "metadata": {},
     "output_type": "execute_result"
    }
   ],
   "source": [
    "Design.ip_dict\n"
   ]
  },
  {
   "cell_type": "code",
   "execution_count": 44,
   "metadata": {},
   "outputs": [
    {
     "name": "stdout",
     "output_type": "stream",
     "text": [
      "The Base Address of adder is : 43c00000\n",
      "The Address Range of adder is : 10000\n"
     ]
    }
   ],
   "source": [
    "\n",
    "conv_ADDR = Design.ip_dict['myip_0']['phys_addr']\n",
    "conv_ADDR_range = Design.ip_dict['myip_0']['addr_range']\n",
    "print(\"The Base Address of adder is : \" + format(conv_ADDR, '02x'))\n",
    "print(\"The Address Range of adder is : \" + format(conv_ADDR_range, '02x'))"
   ]
  },
  {
   "cell_type": "code",
   "execution_count": 45,
   "metadata": {},
   "outputs": [],
   "source": [
    "\n",
    "from pynq import MMIO\n",
    "conv = MMIO(conv_ADDR, conv_ADDR_range)"
   ]
  },
  {
   "cell_type": "code",
   "execution_count": 46,
   "metadata": {},
   "outputs": [],
   "source": [
    "a1 = 1\n",
    "a2 = 2\n",
    "a3 = 1\n",
    "a4 = 3\n",
    "b1 = 2\n",
    "b2 = 1\n",
    "b3 = 4\n",
    "b4 = 0\n",
    "bias = 3\n",
    "input_data = a1 + (a2 << 3)  + (a3 << 6) + (a4 << 9) + (b1 << 12) + (b2 << 15) + (b3 << 18) + (b4 << 21) + (bias << 24)\n"
   ]
  },
  {
   "cell_type": "code",
   "execution_count": 47,
   "metadata": {},
   "outputs": [
    {
     "name": "stdout",
     "output_type": "stream",
     "text": [
      "The answer is  11\n"
     ]
    }
   ],
   "source": [
    "\n",
    "conv.write(0x0, input_data)\n",
    "output = conv.read(0x4)\n",
    "\n",
    "# output = 1*2 + 2*1 + 1*4 + 3*0 + 3 = 11\n",
    "print(\"The answer is \", output)"
   ]
  },
  {
   "cell_type": "code",
   "execution_count": null,
   "metadata": {},
   "outputs": [],
   "source": []
  }
 ],
 "metadata": {
  "kernelspec": {
   "display_name": "Python 3",
   "language": "python",
   "name": "python3"
  },
  "language_info": {
   "codemirror_mode": {
    "name": "ipython",
    "version": 3
   },
   "file_extension": ".py",
   "mimetype": "text/x-python",
   "name": "python",
   "nbconvert_exporter": "python",
   "pygments_lexer": "ipython3",
   "version": "3.6.5"
  }
 },
 "nbformat": 4,
 "nbformat_minor": 2
}
